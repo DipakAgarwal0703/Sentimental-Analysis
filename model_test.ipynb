{
 "cells": [
  {
   "cell_type": "markdown",
   "metadata": {},
   "source": [
    "SVC RF and NB model test(94%)"
   ]
  },
  {
   "cell_type": "code",
   "execution_count": 19,
   "metadata": {},
   "outputs": [
    {
     "name": "stdout",
     "output_type": "stream",
     "text": [
      "['I am extremely happy today. This is the best day of my life!', 'I feel so sad and lonely. Nothing seems to go right.', 'Wow, what an amazing performance. Truly breathtaking!', \"I'm absolutely furious with the service I received. Never coming back!\", 'I love spending time with my family. They make me so happy.', 'I am scared of the dark. It makes me feel so uneasy.', 'She was ecstatic when she heard the news. Pure joy!', \"This place is creepy. I don't feel safe here.\", \"What a delightful surprise! I'm over the moon.\", \"It's heartbreaking to see so many people suffering.\", 'My heart swells with love every time I see my child smile.', \"I can't believe you did this! You really surprised me.\", \"I'm overjoyed with the results! We did it!\", 'His anger was palpable, and it made everyone uncomfortable.', 'The fear in her eyes was unmistakable.', 'The sorrow I feel is overwhelming and never seems to end.', 'Every moment spent with you fills me with love and happiness.', 'You caught me off guard with that unexpected visit.', 'The happiness I feel today is indescribable.', 'He shouted in anger, unable to contain his frustration.', \"I'm terrified of what's going to happen next.\"]\n"
     ]
    }
   ],
   "source": [
    "def read_and_split_file(filename):\n",
    "    with open(filename, 'r') as file:\n",
    "        content = file.read()\n",
    "    \n",
    "    # Split by periods and newlines\n",
    "    segments = []\n",
    "    current_segment = \"\"\n",
    "    for char in content:\n",
    "        if char == '\\n':\n",
    "            if current_segment.strip():\n",
    "                segments.append(current_segment.strip())\n",
    "            current_segment = \"\"\n",
    "        else:\n",
    "            current_segment += char\n",
    "    \n",
    "    # Append any remaining text as the last segment\n",
    "    if current_segment.strip():\n",
    "        segments.append(current_segment.strip())\n",
    "    \n",
    "    return segments\n",
    "\n",
    "if __name__ == \"__main__\":\n",
    "    segments = read_and_split_file('data.txt')\n",
    "    print(segments)  \n"
   ]
  },
  {
   "cell_type": "code",
   "execution_count": 17,
   "metadata": {},
   "outputs": [
    {
     "data": {
      "text/plain": [
       "['extremely happy today good day life',\n",
       " 'feel sad lonely nothing seem go right',\n",
       " 'wow amazing performance truly breathtake',\n",
       " 'absolutely furious service receive never come back',\n",
       " 'love spend time family make happy',\n",
       " 'scared dark make feel uneasy',\n",
       " 'ecstatic hear news pure joy',\n",
       " 'place creepy feel safe',\n",
       " 'delightful surprise moon',\n",
       " 'heartbreaking see many people suffer',\n",
       " 'heart swell love every time see child smile',\n",
       " 'can believe really surprise',\n",
       " 'overjoyed result',\n",
       " 'anger palpable make everyone uncomfortable',\n",
       " 'fear eye unmistakable',\n",
       " 'sorrow feel overwhelming never seem end',\n",
       " 'every moment spend fill love happiness',\n",
       " 'catch guard unexpected visit',\n",
       " 'happiness feel today indescribable',\n",
       " 'shout anger unable contain frustration',\n",
       " 'terrified go happen next']"
      ]
     },
     "execution_count": 17,
     "metadata": {},
     "output_type": "execute_result"
    }
   ],
   "source": [
    "from lemma import words_lemm_fast\n",
    "segments=words_lemm_fast(segments)\n",
    "segments"
   ]
  },
  {
   "cell_type": "code",
   "execution_count": 20,
   "metadata": {},
   "outputs": [
    {
     "name": "stdout",
     "output_type": "stream",
     "text": [
      "I am extremely happy today. This is the best day of my life!   ['joy']\n",
      "I feel so sad and lonely. Nothing seems to go right.   ['sadness']\n",
      "Wow, what an amazing performance. Truly breathtaking!   ['joy']\n",
      "I'm absolutely furious with the service I received. Never coming back!   ['anger']\n",
      "I love spending time with my family. They make me so happy.   ['joy']\n",
      "I am scared of the dark. It makes me feel so uneasy.   ['fear']\n",
      "She was ecstatic when she heard the news. Pure joy!   ['joy']\n",
      "This place is creepy. I don't feel safe here.   ['joy']\n",
      "What a delightful surprise! I'm over the moon.   ['joy']\n",
      "It's heartbreaking to see so many people suffering.   ['sadness']\n",
      "My heart swells with love every time I see my child smile.   ['joy']\n",
      "I can't believe you did this! You really surprised me.   ['surprise']\n",
      "I'm overjoyed with the results! We did it!   ['joy']\n",
      "His anger was palpable, and it made everyone uncomfortable.   ['fear']\n",
      "The fear in her eyes was unmistakable.   ['sadness']\n",
      "The sorrow I feel is overwhelming and never seems to end.   ['joy']\n",
      "Every moment spent with you fills me with love and happiness.   ['joy']\n",
      "You caught me off guard with that unexpected visit.   ['joy']\n",
      "The happiness I feel today is indescribable.   ['joy']\n",
      "He shouted in anger, unable to contain his frustration.   ['anger']\n",
      "I'm terrified of what's going to happen next.   ['fear']\n"
     ]
    }
   ],
   "source": [
    "import joblib \n",
    "model=joblib.load('svc_rf_nb(new).pkl')\n",
    "j=[]\n",
    "j.append(segments[0])\n",
    "for i in segments:\n",
    "    j[0]=i\n",
    "    print(i,\" \",model.predict(j))"
   ]
  }
 ],
 "metadata": {
  "kernelspec": {
   "display_name": "Python 3",
   "language": "python",
   "name": "python3"
  },
  "language_info": {
   "codemirror_mode": {
    "name": "ipython",
    "version": 3
   },
   "file_extension": ".py",
   "mimetype": "text/x-python",
   "name": "python",
   "nbconvert_exporter": "python",
   "pygments_lexer": "ipython3",
   "version": "3.12.2"
  }
 },
 "nbformat": 4,
 "nbformat_minor": 2
}
